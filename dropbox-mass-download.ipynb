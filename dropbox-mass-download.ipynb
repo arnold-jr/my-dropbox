{
 "cells": [
  {
   "cell_type": "code",
   "execution_count": 1,
   "metadata": {
    "collapsed": true
   },
   "outputs": [],
   "source": [
    "import os\n",
    "import dropbox\n",
    "import json"
   ]
  },
  {
   "cell_type": "code",
   "execution_count": 2,
   "metadata": {
    "collapsed": false
   },
   "outputs": [],
   "source": [
    "#app_key = os.environ['DROPBOX_APP_KEY']\n",
    "#app_secret = os.environ['DROPBOX_APP_SECRET']\n",
    "\n",
    "# For debugging\n",
    "access_token = os.environ['DROPBOX_ACCESS_TOKEN']"
   ]
  },
  {
   "cell_type": "code",
   "execution_count": null,
   "metadata": {
    "collapsed": true
   },
   "outputs": [],
   "source": []
  },
  {
   "cell_type": "code",
   "execution_count": 4,
   "metadata": {
    "collapsed": true
   },
   "outputs": [],
   "source": [
    "def foo(x, filt):\n",
    "  return filt(x)"
   ]
  },
  {
   "cell_type": "code",
   "execution_count": 5,
   "metadata": {
    "collapsed": false
   },
   "outputs": [
    {
     "data": {
      "text/plain": [
       "True"
      ]
     },
     "execution_count": 5,
     "metadata": {},
     "output_type": "execute_result"
    }
   ],
   "source": [
    "foo(\".tif\", lambda x: \".tif\" in x)"
   ]
  },
  {
   "cell_type": "code",
   "execution_count": 20,
   "metadata": {
    "collapsed": false
   },
   "outputs": [
    {
     "data": {
      "text/plain": [
       "True"
      ]
     },
     "execution_count": 20,
     "metadata": {},
     "output_type": "execute_result"
    }
   ],
   "source": [
    "os.path.exists(\"dropbox_level_one.py\")"
   ]
  },
  {
   "cell_type": "code",
   "execution_count": 3,
   "metadata": {
    "collapsed": false
   },
   "outputs": [],
   "source": [
    "class MyDropbox(dropbox.Dropbox):\n",
    "  def dirs_download_to_file(self, src, target, filt=lambda s: True):\n",
    "    files = self.files_list_folder(src, recursive=True).entries\n",
    "    sources = [f.path_lower for f in files \n",
    "           if isinstance(f, dropbox.dropbox.files.FileMetadata)]\n",
    "    for s in sources:\n",
    "      t = s.replace(src, target)\n",
    "      if not os.path.exists(t) and filt(s):\n",
    "        os.makedirs(os.path.dirname(t), exist_ok=True)\n",
    "        meta = dbx.files_download_to_file(t, s)     \n"
   ]
  },
  {
   "cell_type": "code",
   "execution_count": 4,
   "metadata": {
    "collapsed": false
   },
   "outputs": [],
   "source": [
    "dbx = MyDropbox(access_token)\n",
    "#dbx.dirs_download_to_file(src, target)"
   ]
  },
  {
   "cell_type": "code",
   "execution_count": 11,
   "metadata": {
    "collapsed": true
   },
   "outputs": [],
   "source": [
    "src = \"/dissertation - live\"\n",
    "target = \"/Volumes/storage/vu_ct_data/ct/pc100\""
   ]
  },
  {
   "cell_type": "code",
   "execution_count": 13,
   "metadata": {
    "collapsed": false
   },
   "outputs": [
    {
     "data": {
      "text/plain": [
       "ListFolderResult(entries=[FolderMetadata(name='Papers', id='id:tu6F3nFJIDUAAAAAAAAjZw', path_lower='/dissertation - live/papers', path_display='/Dissertation - Live/Papers', parent_shared_folder_id=None, shared_folder_id=None, sharing_info=None, property_groups=None), FolderMetadata(name='Experimental Results', id='id:tu6F3nFJIDUAAAAAAAAi7A', path_lower='/dissertation - live/experimental results', path_display='/Dissertation - Live/Experimental Results', parent_shared_folder_id=None, shared_folder_id=None, sharing_info=None, property_groups=None), FolderMetadata(name='Presentations', id='id:tu6F3nFJIDUAAAAAAAAi6w', path_lower='/dissertation - live/presentations', path_display='/Dissertation - Live/Presentations', parent_shared_folder_id=None, shared_folder_id=None, sharing_info=None, property_groups=None), FolderMetadata(name='Dissertation', id='id:tu6F3nFJIDUAAAAAAACOGQ', path_lower='/dissertation - live/dissertation', path_display='/Dissertation - Live/Dissertation', parent_shared_folder_id=None, shared_folder_id=None, sharing_info=None, property_groups=None), FolderMetadata(name='Experimental Design', id='id:tu6F3nFJIDUAAAAAAAKuTw', path_lower='/dissertation - live/experimental design', path_display='/Dissertation - Live/Experimental Design', parent_shared_folder_id=None, shared_folder_id=None, sharing_info=None, property_groups=None), FolderMetadata(name='Projects', id='id:tu6F3nFJIDUAAAAAAAMxnw', path_lower='/dissertation - live/projects', path_display='/Dissertation - Live/Projects', parent_shared_folder_id=None, shared_folder_id=None, sharing_info=None, property_groups=None), FolderMetadata(name='Simulation Results', id='id:tu6F3nFJIDUAAAAAAAPrdQ', path_lower='/dissertation - live/simulation results', path_display='/Dissertation - Live/Simulation Results', parent_shared_folder_id=None, shared_folder_id=None, sharing_info=None, property_groups=None), FileMetadata(name='Equations list.docx', id='id:tu6F3nFJIDUAAAAAAACOFg', client_modified=datetime.datetime(2012, 10, 16, 18, 7), server_modified=datetime.datetime(2013, 6, 30, 21, 4, 43), rev='e892300915c23', size=80400, path_lower='/dissertation - live/equations list.docx', path_display='/Dissertation - Live/Equations list.docx', parent_shared_folder_id=None, media_info=None, sharing_info=None, property_groups=None, has_explicit_shared_members=None), FileMetadata(name='Free Liquid Diffusivities.docx', id='id:tu6F3nFJIDUAAAAAAACOFQ', client_modified=datetime.datetime(2012, 1, 17, 22, 19), server_modified=datetime.datetime(2013, 6, 30, 21, 4, 43), rev='e892400915c23', size=15537, path_lower='/dissertation - live/free liquid diffusivities.docx', path_display='/Dissertation - Live/Free Liquid Diffusivities.docx', parent_shared_folder_id=None, media_info=None, sharing_info=None, property_groups=None, has_explicit_shared_members=None), FileMetadata(name='RTMonoMats-Sohini.xls', id='id:tu6F3nFJIDUAAAAAAACOFA', client_modified=datetime.datetime(2012, 4, 1, 1, 20, 49), server_modified=datetime.datetime(2013, 6, 30, 21, 4, 43), rev='e892600915c23', size=615936, path_lower='/dissertation - live/rtmonomats-sohini.xls', path_display='/Dissertation - Live/RTMonoMats-Sohini.xls', parent_shared_folder_id=None, media_info=None, sharing_info=None, property_groups=None, has_explicit_shared_members=None), FileMetadata(name='Work Summary Through March 31, 2010.docx', id='id:tu6F3nFJIDUAAAAAAACOEw', client_modified=datetime.datetime(2010, 2, 25, 19, 15, 30), server_modified=datetime.datetime(2013, 6, 30, 21, 4, 43), rev='e892800915c23', size=14003, path_lower='/dissertation - live/work summary through march 31, 2010.docx', path_display='/Dissertation - Live/Work Summary Through March 31, 2010.docx', parent_shared_folder_id=None, media_info=None, sharing_info=None, property_groups=None, has_explicit_shared_members=None)], cursor='AAEktfQC7qFsLLP_nYlzg3kFIcQicb3HV51LT96sXC4hyRP8rzLWDZhlBgotSS-bCzQ84vCbnr_k0vkkeXAOcG8_DimS0EXBK6nJIy59FmyjhbAPETDSwYAMP9gSl1feSNbOixyz2Ug5y-CmkfQEO5n1lctj1_NeoX-HoDRQ8g1PHglfmX_8vZ0UMrWO_8BaNn70Q6yuCT4SDDA2mndGXYGUOODiQcpCX6b9eqmJeBMS5t3nbzNxvgDDQrakX_gRmtRdo3zrNZdDC1dlT4MI3KqqW3wVU3269qDOTD4JxUaZsQ', has_more=False)"
      ]
     },
     "execution_count": 13,
     "metadata": {},
     "output_type": "execute_result"
    }
   ],
   "source": [
    "dbx.files_list_folder(src, recursive=False)"
   ]
  },
  {
   "cell_type": "code",
   "execution_count": 19,
   "metadata": {
    "collapsed": false
   },
   "outputs": [],
   "source": [
    "dbx.files_list_folder_continue?"
   ]
  }
 ],
 "metadata": {
  "anaconda-cloud": {},
  "kernelspec": {
   "display_name": "Python [conda root]",
   "language": "python",
   "name": "conda-root-py"
  },
  "language_info": {
   "codemirror_mode": {
    "name": "ipython",
    "version": 3
   },
   "file_extension": ".py",
   "mimetype": "text/x-python",
   "name": "python",
   "nbconvert_exporter": "python",
   "pygments_lexer": "ipython3",
   "version": "3.5.2"
  }
 },
 "nbformat": 4,
 "nbformat_minor": 1
}
